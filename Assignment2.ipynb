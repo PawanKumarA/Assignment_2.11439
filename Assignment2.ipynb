{
 "cells": [
  {
   "cell_type": "markdown",
   "metadata": {},
   "source": [
    "# Task 1:"
   ]
  },
  {
   "cell_type": "markdown",
   "metadata": {},
   "source": [
    "1.1 Write a Python Program to implement your own myreduce() function which works exactly like\n",
    "Python's built-in function reduce()"
   ]
  },
  {
   "cell_type": "code",
   "execution_count": 2,
   "metadata": {},
   "outputs": [
    {
     "name": "stdout",
     "output_type": "stream",
     "text": [
      "original reduce function: 55\n",
      "my_reduce function : 55\n",
      ".......\n",
      "original reduce function: 155\n",
      "my_reduce function : 155\n",
      ".......\n",
      "original reduce function: 65\n",
      "my_reduce function : 65\n"
     ]
    }
   ],
   "source": [
    "from functools import reduce\n",
    "def myReduce(f, iterable, initializer=None):\n",
    "    '''own myreduce() function which works exactly like Python's built-in function reduce()'''\n",
    "    it = iter(iterable)\n",
    "    if initializer is None:    #if user didn't pass intializer\n",
    "        try:\n",
    "            initializer = next(it)   #initialializer will be first element of list\n",
    "        except StopIteration:\n",
    "            raise TypeError('no initial value')   #if list is emty it raises the error\n",
    "    value = initializer\n",
    "    for x in it:\n",
    "        value = f(value, x)              #it passes every remaining value in list to function with previous output\n",
    "    return value\n",
    "\n",
    "n=[1,2,3,4,5,6,7,8,9,10]\n",
    "m=[11,12,13,14,15,16,17,18,19,20]\n",
    "\n",
    "print(\"original reduce function:\",reduce(lambda x,y:x+y , n ))   #python built in reduce function\n",
    "print(\"my_reduce function :\",myReduce(lambda x,y:x+y , n ))      #my_reduce function\n",
    "print(\".......\")\n",
    "print(\"original reduce function:\",reduce(lambda x,y:x+y , m ))    #python built in reduce function\n",
    "print(\"my_reduce function :\",myReduce(lambda x,y:x+y , m ))       #my_reduce function\n",
    "print(\".......\")   \n",
    "print(\"original reduce function:\",reduce(lambda x,y:x+y , n ,10 ))   #python built in reduce function\n",
    "print(\"my_reduce function :\",myReduce(lambda x,y:x+y , n , 10 ))     #my_reduce function"
   ]
  },
  {
   "cell_type": "markdown",
   "metadata": {},
   "source": [
    "1.2 Write a Python program to implement your own myfilter() function which works exactly like\n",
    "Python's built-in function filter()"
   ]
  },
  {
   "cell_type": "code",
   "execution_count": 3,
   "metadata": {},
   "outputs": [
    {
     "name": "stdout",
     "output_type": "stream",
     "text": [
      "[2, 4, 6, 8, 10]\n",
      "[1, 3, 5, 7, 9]\n"
     ]
    }
   ],
   "source": [
    "def myFilter(f, iterable ):\n",
    "    '''own myfilter() function which works exactly like Python's built-in function filter()'''\n",
    "    it = iter(iterable)\n",
    "    lst2=[]\n",
    "    for x in it:\n",
    "       if(f(x)):                \n",
    "            lst2.append(x)      \n",
    "    return lst2\n",
    "\n",
    "n=[1,2,3,4,5,6,7,8,9,10]\n",
    "print(myFilter(lambda x: x%2 == 0 , n ))\n",
    "print(myFilter(lambda x: x%2 != 0 , n ))"
   ]
  },
  {
   "cell_type": "markdown",
   "metadata": {},
   "source": [
    "2.Implement List comprehensions to produce the following lists.\n",
    "\n",
    "Write List comprehensions to produce the following Lists\n",
    "\n",
    "['A', 'C', 'A', 'D', 'G', 'I', ’L’, ‘ D’]\n",
    "\n",
    "['x', 'xx', 'xxx', 'xxxx', 'y', 'yy', 'yyy', 'yyyy', 'z', 'zz', 'zzz', 'zzzz']\n",
    "\n",
    "['x', 'y', 'z', 'xx', 'yy', 'zz', 'xx', 'yy', 'zz', 'xxxx', 'yyyy', 'zzzz']\n",
    "\n",
    "[[2], [3], [4], [3], [4], [5], [4], [5], [6]]\n",
    "\n",
    "[[2, 3, 4, 5], [3, 4, 5, 6], [4, 5, 6, 7], [5, 6, 7, 8]]\n",
    "\n",
    "[(1, 1), (2, 1), (3, 1), (1, 2), (2, 2), (3, 2), (1, 3), (2, 3), (3, 3)]"
   ]
  },
  {
   "cell_type": "code",
   "execution_count": 13,
   "metadata": {},
   "outputs": [
    {
     "name": "stdout",
     "output_type": "stream",
     "text": [
      "['A', 'C', 'A', 'D', 'G', 'I', 'L', 'D']\n",
      "......................\n",
      "['x', 'xx', 'xxx', 'xxxx', 'y', 'yy', 'yyy', 'yyyy', 'z', 'zz', 'zzz', 'zzzz']\n",
      "......................\n",
      "['x', 'y', 'z', 'xx', 'yy', 'zz', 'xxx', 'yyy', 'zzz', 'xxxx', 'yyyy', 'zzzz']\n",
      "......................\n",
      "[[2], [3], [4], [3], [4], [5], [4], [5], [6]]\n",
      "......................\n",
      "[[2, 3, 4, 5], [3, 4, 5, 6], [4, 5, 6, 7], [5, 6, 7, 8]]\n",
      "......................\n",
      "[(1, 1), (2, 1), (3, 1), (1, 2), (2, 2), (3, 2), (1, 3), (2, 3), (3, 3)]\n"
     ]
    }
   ],
   "source": [
    "in_string=\"ACADGILD\"\n",
    "lst=list((x for x in in_string))\n",
    "print(lst)\n",
    "print(\"......................\")\n",
    "\n",
    "in_list = ['x','y','z']\n",
    "result = [i *n  for i in in_list for n in range(1,5)]\n",
    "print(result)\n",
    "print(\"......................\")\n",
    "\n",
    "result1 = [ i * n for n in range(1,5) for i in in_list  ]\n",
    "print(result1)\n",
    "print(\"......................\")\n",
    "\n",
    "in_list = [2,3,4]\n",
    "result = [ [i+n] for i in in_list for n in range(0,3)]\n",
    "print(result)\n",
    "print(\"......................\")\n",
    "\n",
    "in_list = [2,3,4,5]\n",
    "result = [ [i + n for i in in_list] for n in range(0,4)  ]\n",
    "print(result)\n",
    "print(\"......................\")\n",
    "\n",
    "in_list=[1,2,3]\n",
    "result = [ (b,a) for a in in_list for b in in_list]\n",
    "print(result)"
   ]
  },
  {
   "cell_type": "markdown",
   "metadata": {},
   "source": [
    "3.Implement a function longestWord() that takes a list of words and returns the longest one."
   ]
  },
  {
   "cell_type": "code",
   "execution_count": 12,
   "metadata": {},
   "outputs": [
    {
     "name": "stdout",
     "output_type": "stream",
     "text": [
      "Blackcurrant\n",
      "Caterpillar\n"
     ]
    }
   ],
   "source": [
    "def longestWord(lst):\n",
    "    long_word=''\n",
    "    for i in range(0,len(lst)):\n",
    "        if(len(long_word) < len(lst[i])):\n",
    "            long_word=lst[i]\n",
    "    return(long_word)\n",
    "    \n",
    "in_list=['banana','Avocado','Blackberry','Blackcurrant','apple']\n",
    "print(longestWord(in_list))\n",
    "in_list=['cat','dog','lion','tiger','elephant','Caterpillar','Chimpanzee','Dinosaur']\n",
    "print(longestWord(in_list))"
   ]
  },
  {
   "cell_type": "markdown",
   "metadata": {},
   "source": [
    "# Task2"
   ]
  },
  {
   "cell_type": "markdown",
   "metadata": {},
   "source": [
    "1.1 Write a Python Program(with class concepts) to find the area of the triangle using the below formula.\n",
    "\n",
    "area = (s*(s-a)*(s-b)*(s-c)) *** 0.5\n",
    "\n",
    "Function to take the length of the sides of triangle from user should be defined in the parent\n",
    "class and function to calculate the area should be defined in subclass."
   ]
  },
  {
   "cell_type": "code",
   "execution_count": 12,
   "metadata": {},
   "outputs": [
    {
     "name": "stdout",
     "output_type": "stream",
     "text": [
      "area of triangle = 2.9047375096555625\n"
     ]
    }
   ],
   "source": [
    "class Triangle(object):\n",
    "\n",
    "    def __init__(self, sides):\n",
    "        self.a,self.b,self.c=sides    #assigning values to variable\n",
    "    \n",
    "\n",
    "class Area(Triangle):\n",
    "\n",
    "    def __init__(self, sides):\n",
    "        Triangle.__init__(self, sides)    #passing values to triangle class for initialization\n",
    "    \n",
    "    def get_area(self):\n",
    "        '''return the area of the triangle using the semi-perimeter method'''\n",
    "        \n",
    "        # calculate the semi-perimeter\n",
    "        s = (self.a + self.b + self.c) / 2\n",
    "        return (s*(s-self.a)*(s-self.b)*(s-self.c)) ** 0.5\n",
    "\n",
    "    \n",
    "    \n",
    "    \n",
    "Tri = Area([2,3,4])\n",
    "print(\"area of triangle =\" ,Tri.get_area())"
   ]
  },
  {
   "cell_type": "markdown",
   "metadata": {},
   "source": [
    "1.2 Write a function filter_long_words() that takes a list of words and an integer n and returns the list\n",
    "of words that are longer than n"
   ]
  },
  {
   "cell_type": "code",
   "execution_count": 6,
   "metadata": {},
   "outputs": [
    {
     "name": "stdout",
     "output_type": "stream",
     "text": [
      "length more than 3 : ['lion', 'tiger', 'elephant', 'Caterpillar', 'Chimpanzee', 'Dinosaur']\n",
      "length more than 4 : ['tiger', 'elephant', 'Caterpillar', 'Chimpanzee', 'Dinosaur']\n",
      "length more than 5 : ['elephant', 'Caterpillar', 'Chimpanzee', 'Dinosaur']\n"
     ]
    }
   ],
   "source": [
    "def filter_long_word(lst,n):\n",
    "    words=[]\n",
    "    for i in range(0,len(lst)):\n",
    "        if(n < len(lst[i])):\n",
    "            words.append(lst[i])\n",
    "    return(words)\n",
    "\n",
    "\n",
    "in_list=['cat','dog','lion','tiger','elephant','Caterpillar','Chimpanzee','Dinosaur']\n",
    "print('length more than 3 :', filter_long_word(in_list,3))\n",
    "print('length more than 4 :',filter_long_word(in_list,4))\n",
    "print('length more than 5 :',filter_long_word(in_list,5))"
   ]
  },
  {
   "cell_type": "markdown",
   "metadata": {},
   "source": [
    "2.1 Write a Python program using function concept that maps  list of words into a list of integers\n",
    "representing the lengths of the corresponding words\n",
    "\n",
    "Hint: \n",
    "    \n",
    "If a list [ ab,cde,erty] is passed on to the python function output should come as [2,3,4]\n",
    "Here 2,3 and 4 are the lengths of the words in the list"
   ]
  },
  {
   "cell_type": "code",
   "execution_count": 7,
   "metadata": {},
   "outputs": [
    {
     "name": "stdout",
     "output_type": "stream",
     "text": [
      "[3, 3, 4, 5, 8, 11, 10, 8]\n"
     ]
    }
   ],
   "source": [
    "def mapWordstoLength(lst):\n",
    "    lengths=[]\n",
    "    for i in range(0,len(lst)):\n",
    "        lengths.append(len(lst[i]))\n",
    "    return lengths\n",
    "\n",
    "in_list=['cat','dog','lion','tiger','elephant','Caterpillar','Chimpanzee','Dinosaur']\n",
    "print(mapWordstoLength(in_list))"
   ]
  },
  {
   "cell_type": "markdown",
   "metadata": {},
   "source": [
    "2.2 Write a Python function which takes a character (i.e. a string of length 1) and returns True if it is\n",
    "a vowel, False otherwise."
   ]
  },
  {
   "cell_type": "code",
   "execution_count": 8,
   "metadata": {},
   "outputs": [
    {
     "name": "stdout",
     "output_type": "stream",
     "text": [
      "True\n",
      "False\n"
     ]
    }
   ],
   "source": [
    "def checkVowel(s):\n",
    "    vowel=['a','e','i','o','u']\n",
    "    if(s in vowel):\n",
    "        return True\n",
    "    else:\n",
    "        return False\n",
    "    \n",
    "print(checkVowel('a'))\n",
    "print(checkVowel('b'))"
   ]
  },
  {
   "cell_type": "code",
   "execution_count": null,
   "metadata": {
    "collapsed": true
   },
   "outputs": [],
   "source": []
  }
 ],
 "metadata": {
  "kernelspec": {
   "display_name": "Python 3",
   "language": "python",
   "name": "python3"
  },
  "language_info": {
   "codemirror_mode": {
    "name": "ipython",
    "version": 3
   },
   "file_extension": ".py",
   "mimetype": "text/x-python",
   "name": "python",
   "nbconvert_exporter": "python",
   "pygments_lexer": "ipython3",
   "version": "3.6.5"
  }
 },
 "nbformat": 4,
 "nbformat_minor": 2
}
